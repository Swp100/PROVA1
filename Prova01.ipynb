{
 "cells": [
  {
   "cell_type": "code",
   "execution_count": 7,
   "id": "4a2b99b8-f734-47a6-9512-f725b0b26d87",
   "metadata": {},
   "outputs": [],
   "source": [
    "\n",
    "class No:\n",
    "    def __init__(self, valor):\n",
    "        self.valor = valor\n",
    "        self.proximo = None\n",
    "        \n",
    "class ListaEncadeada:\n",
    "    def __init__(self):\n",
    "        self.inicio = None\n",
    "        \n",
    "    def inserir(self,valor):\n",
    "        novo_no = No(valor)\n",
    "        if self.inicio is None:\n",
    "            self.inicio = novo_no\n",
    "        else:\n",
    "            atual = self.inicio\n",
    "            while atual.proximo:\n",
    "                atual = atual.proximo\n",
    "            atual.proximo = novo_no\n",
    "            \n",
    "    #Desenvolvimento   \n",
    "    def contar(self):\n",
    "        qtde_elementos = 0\n",
    "        atual = self.inicio\n",
    "        while atual:\n",
    "            qtde_elementos += 1\n",
    "            atual = atual.proximo\n",
    "        return qtde_elementos"
   ]
  },
  {
   "cell_type": "code",
   "execution_count": 9,
   "id": "e902aee8-3192-4d17-a052-fd24260f6cfd",
   "metadata": {},
   "outputs": [],
   "source": [
    "# Inserindo números na lista encadeada\n",
    "lista = ListaEncadeada()\n",
    "lista.inserir(5)\n",
    "lista.inserir(15)\n",
    "lista.inserir(25)"
   ]
  },
  {
   "cell_type": "code",
   "execution_count": 11,
   "id": "acae551e-9e01-4321-9174-db40dc712c97",
   "metadata": {},
   "outputs": [
    {
     "name": "stdout",
     "output_type": "stream",
     "text": [
      "{3}\n"
     ]
    }
   ],
   "source": [
    "#Quantidade de elementos da lista:\n",
    "contar = lista.contar()\n",
    "print({contar})"
   ]
  }
 ],
 "metadata": {
  "kernelspec": {
   "display_name": "Python [conda env:base] *",
   "language": "python",
   "name": "conda-base-py"
  },
  "language_info": {
   "codemirror_mode": {
    "name": "ipython",
    "version": 3
   },
   "file_extension": ".py",
   "mimetype": "text/x-python",
   "name": "python",
   "nbconvert_exporter": "python",
   "pygments_lexer": "ipython3",
   "version": "3.12.7"
  }
 },
 "nbformat": 4,
 "nbformat_minor": 5
}
